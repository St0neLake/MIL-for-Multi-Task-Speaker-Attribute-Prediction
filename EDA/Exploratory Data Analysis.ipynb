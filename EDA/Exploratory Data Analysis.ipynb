{
 "cells": [
  {
   "cell_type": "markdown",
   "id": "5e25ea09-74d6-47e6-bad6-e922f52c3532",
   "metadata": {},
   "source": [
    "# Personal Information\n",
    "Name: **Stijn Lakeman**\n",
    "\n",
    "StudentID: **12816094**\n",
    "\n",
    "Email: [**stijnlakeman@gmail.com**](stijnlakeman@gmail.com)\n",
    "\n",
    "GitHub: [**https://github.com/St0neLake/MIL-for-Multi-Task-Speaker-Attribute-Prediction**](https://github.com/St0neLake/MIL-for-Multi-Task-Speaker-Attribute-Prediction)\n",
    "\n",
    "Submitted on: **23.03.2025**"
   ]
  },
  {
   "cell_type": "markdown",
   "id": "e3cf6243-adfe-4eb8-bba3-bb2835079abd",
   "metadata": {},
   "source": [
    "# Data Context\n",
    "This dataset contains structured information about political figures from the United States Congress. It includes biographical metadata such as name, state, gender, and party affiliation, as well as the speeches they gave. Each row in the dataset represents a single speaker and contains the given speeches, along with summary statistics like their age and number of speeches.\n",
    "\n",
    "The data spans multiple sessions of Congress and includes members from both the House of Representatives and the Senate. It is suitable for linguistic, demographic, or political analysis, especially focused on the relationship between speaker background and spoken content."
   ]
  },
  {
   "cell_type": "markdown",
   "id": "a833d964-56e1-49c7-8172-7435357624aa",
   "metadata": {},
   "source": [
    "# Data Description (columns)\n",
    "\n",
    "| Column          | Description |\n",
    "|------------------|-------------|\n",
    "| `speakerid`      | Unique ID assigned to each speaker |\n",
    "| `state`          | Two-letter U.S. state code (e.g., NV, CA) |\n",
    "| `gender`         | Speaker's gender (e.g., M, F) |\n",
    "| `party`          | Speaker's political party (e.g., D, R) |\n",
    "| `chamber`        | Chamber of Congress: ‘S’ for Senate, ‘H’ for House |\n",
    "| `firstname`      | Speaker's first name |\n",
    "| `lastname`       | Speaker's last name |\n",
    "| `middlename`     | Speaker's middle name (if available) |\n",
    "| `suffix`         | Suffix to the speaker's name (e.g., Jr., III) |\n",
    "| `birthday`       | Date of birth of the speaker |\n",
    "| `termstart`      | Start date of the speaker’s current term |\n",
    "| `age`            | Age of the speaker at the time of data collection |\n",
    "| `incumbent`      | Boolean indicator of whether the speaker is currently in office |\n",
    "| `congress`       | Numeric representation of the congressional session (e.g., 117) |\n",
    "| `bioguide`       | Unique BioGuide identifier for external linkage |\n",
    "| `num_speeches`   | Number of speech segments recorded for the speaker |\n",
    "| `text`           | A list of individual speech segments (utterances) as a single stringified Python list |\n"
   ]
  },
  {
   "cell_type": "code",
   "execution_count": 1,
   "id": "534317db-d881-4e33-a358-754e2881e8bd",
   "metadata": {},
   "outputs": [],
   "source": [
    "import pandas as pd\n",
    "import numpy as np\n",
    "# Optional: for visualizations\n",
    "import matplotlib.pyplot as plt\n",
    "import seaborn as sns\n",
    "import ast\n",
    "import re\n",
    "from collections import Counter\n",
    "import nltk\n",
    "from nltk.corpus import stopwords\n",
    "import random"
   ]
  },
  {
   "cell_type": "markdown",
   "id": "b582b299-f599-4140-a454-bcbfdeeb273f",
   "metadata": {},
   "source": [
    "### Data Loading"
   ]
  },
  {
   "cell_type": "code",
   "execution_count": 2,
   "id": "9f0cf9be-2cac-4227-957f-ad893212e70c",
   "metadata": {},
   "outputs": [],
   "source": [
    "df = pd.read_csv(\"../RL-MIL-main/data/political_data.csv\")\n",
    "# Convert stringified speech lists to Python lists\n",
    "df['text'] = df['text'].apply(ast.literal_eval)"
   ]
  },
  {
   "cell_type": "markdown",
   "id": "b4df9546-a6d7-4678-aca6-cd13d5f3c79a",
   "metadata": {},
   "source": [
    "### Analysis 1: \n",
    "We'll start by checking out the overall shape of the data, things like data types, missing values, and the number of entries. After that, we’ll dive into some speaker statistics, including how many utterances each speaker has, the distribution of political parties and gender, and take a look at a few example bags to know what the bags look like.\n",
    "\n",
    "This helps us understand whether the dataset is clean, balanced, and ready for modeling."
   ]
  },
  {
   "cell_type": "code",
   "execution_count": 3,
   "id": "a889a6c7-aed8-4a0f-9925-c4f8e2fce1d5",
   "metadata": {},
   "outputs": [
    {
     "name": "stdout",
     "output_type": "stream",
     "text": [
      "<class 'pandas.core.frame.DataFrame'>\n",
      "RangeIndex: 8521 entries, 0 to 8520\n",
      "Data columns (total 17 columns):\n",
      " #   Column        Non-Null Count  Dtype  \n",
      "---  ------        --------------  -----  \n",
      " 0   speakerid     8521 non-null   int64  \n",
      " 1   state         8521 non-null   object \n",
      " 2   gender        8521 non-null   object \n",
      " 3   party         8521 non-null   object \n",
      " 4   chamber       8521 non-null   object \n",
      " 5   firstname     8521 non-null   object \n",
      " 6   lastname      8521 non-null   object \n",
      " 7   text          8521 non-null   object \n",
      " 8   congress      8521 non-null   int64  \n",
      " 9   bioguide      8521 non-null   object \n",
      " 10  middlename    6166 non-null   object \n",
      " 11  suffix        764 non-null    object \n",
      " 12  birthday      8521 non-null   object \n",
      " 13  incumbent     8521 non-null   object \n",
      " 14  termstart     8521 non-null   object \n",
      " 15  age           8521 non-null   float64\n",
      " 16  num_speeches  8521 non-null   int64  \n",
      "dtypes: float64(1), int64(3), object(13)\n",
      "memory usage: 1.1+ MB\n"
     ]
    }
   ],
   "source": [
    "df.info()"
   ]
  },
  {
   "cell_type": "code",
   "execution_count": 4,
   "id": "cad5e9df",
   "metadata": {},
   "outputs": [
    {
     "data": {
      "text/html": [
       "<div>\n",
       "<style scoped>\n",
       "    .dataframe tbody tr th:only-of-type {\n",
       "        vertical-align: middle;\n",
       "    }\n",
       "\n",
       "    .dataframe tbody tr th {\n",
       "        vertical-align: top;\n",
       "    }\n",
       "\n",
       "    .dataframe thead th {\n",
       "        text-align: right;\n",
       "    }\n",
       "</style>\n",
       "<table border=\"1\" class=\"dataframe\">\n",
       "  <thead>\n",
       "    <tr style=\"text-align: right;\">\n",
       "      <th></th>\n",
       "      <th>speakerid</th>\n",
       "      <th>state</th>\n",
       "      <th>gender</th>\n",
       "      <th>party</th>\n",
       "      <th>chamber</th>\n",
       "      <th>firstname</th>\n",
       "      <th>lastname</th>\n",
       "      <th>text</th>\n",
       "      <th>congress</th>\n",
       "      <th>bioguide</th>\n",
       "      <th>middlename</th>\n",
       "      <th>suffix</th>\n",
       "      <th>birthday</th>\n",
       "      <th>incumbent</th>\n",
       "      <th>termstart</th>\n",
       "      <th>age</th>\n",
       "      <th>num_speeches</th>\n",
       "    </tr>\n",
       "  </thead>\n",
       "  <tbody>\n",
       "    <tr>\n",
       "      <th>0</th>\n",
       "      <td>97104041</td>\n",
       "      <td>NV</td>\n",
       "      <td>M</td>\n",
       "      <td>D</td>\n",
       "      <td>S</td>\n",
       "      <td>Howard</td>\n",
       "      <td>Cannon</td>\n",
       "      <td>[Mr. President. I am pleased to introduce the ...</td>\n",
       "      <td>97</td>\n",
       "      <td>C000120</td>\n",
       "      <td>Walter</td>\n",
       "      <td>NaN</td>\n",
       "      <td>1912-01-26</td>\n",
       "      <td>Yes</td>\n",
       "      <td>1981-01-05</td>\n",
       "      <td>68.9</td>\n",
       "      <td>364</td>\n",
       "    </tr>\n",
       "    <tr>\n",
       "      <th>1</th>\n",
       "      <td>97104231</td>\n",
       "      <td>CA</td>\n",
       "      <td>M</td>\n",
       "      <td>R</td>\n",
       "      <td>S</td>\n",
       "      <td>Samuel</td>\n",
       "      <td>Hayakawa</td>\n",
       "      <td>[Mr. President. today I am introducing a bill ...</td>\n",
       "      <td>97</td>\n",
       "      <td>H000384</td>\n",
       "      <td>Ichiye</td>\n",
       "      <td>NaN</td>\n",
       "      <td>1906-07-18</td>\n",
       "      <td>Yes</td>\n",
       "      <td>1981-01-05</td>\n",
       "      <td>74.5</td>\n",
       "      <td>546</td>\n",
       "    </tr>\n",
       "    <tr>\n",
       "      <th>2</th>\n",
       "      <td>97104561</td>\n",
       "      <td>NM</td>\n",
       "      <td>M</td>\n",
       "      <td>R</td>\n",
       "      <td>S</td>\n",
       "      <td>Harrison</td>\n",
       "      <td>Schmitt</td>\n",
       "      <td>[Mr. President. today I am introducing a bill ...</td>\n",
       "      <td>97</td>\n",
       "      <td>S000132</td>\n",
       "      <td>Hagan</td>\n",
       "      <td>NaN</td>\n",
       "      <td>1935-07-03</td>\n",
       "      <td>Yes</td>\n",
       "      <td>1981-01-05</td>\n",
       "      <td>45.5</td>\n",
       "      <td>899</td>\n",
       "    </tr>\n",
       "    <tr>\n",
       "      <th>3</th>\n",
       "      <td>97104711</td>\n",
       "      <td>NJ</td>\n",
       "      <td>M</td>\n",
       "      <td>D</td>\n",
       "      <td>S</td>\n",
       "      <td>Harrison</td>\n",
       "      <td>Williams</td>\n",
       "      <td>[Mr. President. I am confident that all of my ...</td>\n",
       "      <td>97</td>\n",
       "      <td>W000502</td>\n",
       "      <td>Arlington</td>\n",
       "      <td>Jr.</td>\n",
       "      <td>1919-12-10</td>\n",
       "      <td>Yes</td>\n",
       "      <td>1981-01-05</td>\n",
       "      <td>61.1</td>\n",
       "      <td>151</td>\n",
       "    </tr>\n",
       "    <tr>\n",
       "      <th>4</th>\n",
       "      <td>97104811</td>\n",
       "      <td>TN</td>\n",
       "      <td>M</td>\n",
       "      <td>R</td>\n",
       "      <td>S</td>\n",
       "      <td>Howard</td>\n",
       "      <td>Baker</td>\n",
       "      <td>[Mr. President. I suggest the absence of a quo...</td>\n",
       "      <td>97</td>\n",
       "      <td>B000063</td>\n",
       "      <td>Henry</td>\n",
       "      <td>Jr.</td>\n",
       "      <td>1925-11-15</td>\n",
       "      <td>Yes</td>\n",
       "      <td>1981-01-05</td>\n",
       "      <td>55.1</td>\n",
       "      <td>15456</td>\n",
       "    </tr>\n",
       "  </tbody>\n",
       "</table>\n",
       "</div>"
      ],
      "text/plain": [
       "   speakerid state gender party chamber firstname  lastname  \\\n",
       "0   97104041    NV      M     D       S    Howard    Cannon   \n",
       "1   97104231    CA      M     R       S    Samuel  Hayakawa   \n",
       "2   97104561    NM      M     R       S  Harrison   Schmitt   \n",
       "3   97104711    NJ      M     D       S  Harrison  Williams   \n",
       "4   97104811    TN      M     R       S    Howard     Baker   \n",
       "\n",
       "                                                text  congress bioguide  \\\n",
       "0  [Mr. President. I am pleased to introduce the ...        97  C000120   \n",
       "1  [Mr. President. today I am introducing a bill ...        97  H000384   \n",
       "2  [Mr. President. today I am introducing a bill ...        97  S000132   \n",
       "3  [Mr. President. I am confident that all of my ...        97  W000502   \n",
       "4  [Mr. President. I suggest the absence of a quo...        97  B000063   \n",
       "\n",
       "  middlename suffix    birthday incumbent   termstart   age  num_speeches  \n",
       "0     Walter    NaN  1912-01-26       Yes  1981-01-05  68.9           364  \n",
       "1     Ichiye    NaN  1906-07-18       Yes  1981-01-05  74.5           546  \n",
       "2      Hagan    NaN  1935-07-03       Yes  1981-01-05  45.5           899  \n",
       "3  Arlington    Jr.  1919-12-10       Yes  1981-01-05  61.1           151  \n",
       "4      Henry    Jr.  1925-11-15       Yes  1981-01-05  55.1         15456  "
      ]
     },
     "execution_count": 4,
     "metadata": {},
     "output_type": "execute_result"
    }
   ],
   "source": [
    "df.head()"
   ]
  },
  {
   "cell_type": "code",
   "execution_count": 5,
   "id": "a6c77dd7",
   "metadata": {},
   "outputs": [
    {
     "data": {
      "text/plain": [
       "chamber\n",
       "H    6878\n",
       "S    1643\n",
       "Name: count, dtype: int64"
      ]
     },
     "execution_count": 5,
     "metadata": {},
     "output_type": "execute_result"
    }
   ],
   "source": [
    "df['chamber'].value_counts()"
   ]
  },
  {
   "cell_type": "code",
   "execution_count": 6,
   "id": "86b92907",
   "metadata": {},
   "outputs": [
    {
     "data": {
      "text/plain": [
       "party\n",
       "D    4496\n",
       "R    4025\n",
       "Name: count, dtype: int64"
      ]
     },
     "execution_count": 6,
     "metadata": {},
     "output_type": "execute_result"
    }
   ],
   "source": [
    "df['party'].value_counts()"
   ]
  },
  {
   "cell_type": "code",
   "execution_count": 7,
   "id": "c09dc94b",
   "metadata": {},
   "outputs": [
    {
     "data": {
      "text/plain": [
       "gender\n",
       "M    7693\n",
       "F     828\n",
       "Name: count, dtype: int64"
      ]
     },
     "execution_count": 7,
     "metadata": {},
     "output_type": "execute_result"
    }
   ],
   "source": [
    "df['gender'].value_counts()"
   ]
  },
  {
   "cell_type": "code",
   "execution_count": 8,
   "id": "8b25206b",
   "metadata": {},
   "outputs": [
    {
     "data": {
      "text/plain": [
       "count    8521.000000\n",
       "mean       54.231440\n",
       "std        10.603619\n",
       "min        26.400000\n",
       "25%        46.500000\n",
       "50%        54.000000\n",
       "75%        61.500000\n",
       "max        98.100000\n",
       "Name: age, dtype: float64"
      ]
     },
     "execution_count": 8,
     "metadata": {},
     "output_type": "execute_result"
    }
   ],
   "source": [
    "df['age'].describe()"
   ]
  },
  {
   "cell_type": "code",
   "execution_count": 9,
   "id": "ebfc8627",
   "metadata": {},
   "outputs": [
    {
     "data": {
      "text/plain": [
       "count     8521.000000\n",
       "mean       275.509682\n",
       "std        544.933887\n",
       "min          1.000000\n",
       "25%         64.000000\n",
       "50%        140.000000\n",
       "75%        311.000000\n",
       "max      21142.000000\n",
       "Name: num_speeches, dtype: float64"
      ]
     },
     "execution_count": 9,
     "metadata": {},
     "output_type": "execute_result"
    }
   ],
   "source": [
    "df['num_speeches'].describe()"
   ]
  },
  {
   "cell_type": "code",
   "execution_count": 10,
   "id": "d1e54954",
   "metadata": {},
   "outputs": [
    {
     "name": "stdout",
     "output_type": "stream",
     "text": [
      "Speaker: Harrison Williams\n",
      "Party: D\n",
      "Number of Speeches: 151\n",
      "Utterances:\n",
      "1. Mr. President. I am confident that all of my colleagues will support the motion to confirm Dick Schweiker as Secretary of Health and Human Services. ITE S403 My confidence is borne not only of the affection I have for him personally. but also of the admiration and esteem that he has so gracefully acquired during his years as a Member of the Senate. When he was sworn in as a Senator in 196. he was assigned to membership on the Committee on Labor and Public Welfare. I too was a member of that committee and chairman of the Subcommittee on Labor. I marked him immediately as a person of exceptional energy. ranging curiosity. eloquence. compassion. and determination to find the best solution to the problems of people. Over these past 12 years. my initial impression has been confirmed many times. Dick Schweiker has been an important part of the foundation for all of the committees work during the past decade. During the 96th Congress. he was the committees ranking minority member. a helpful and constructive partner to me as chairman of the committee. The breadth of his interest and the range of his work encompassed virtually every aspect of the 1.600 programs under the committees jurisdictionprograms in health. education. employment. social services for the elderly and the very young. programs that are designed lto provide the personal and family security for working Americans so that their chances of finding and keeping a job are greatly enhanced. programs that enrich the lives of those too young or too ill to work and those who have worked all their lives and earned a wholesome retirement. In recent years. his rich experience in human problems and human services to ameliorate them has been brought to bear as a member of the Senate Appropriations Committee. where he served as ranking minority member of the Subcommittee on Labor. Health and Human Services. Education and Related Agencies. By experience. by personal interest and commitment. and I know by preference. Dick Schweiker is uniquely qualified for the responsibilities that he soon will undertake as Secretary of Health and Human Services. I look forward to his confirmation by the Senate and to continuing our friendship and working relationship in the months and years ahead.\n",
      "2. Mr. President. I welcome this opportunity to shortly cast an enthusiastic vote for Samuel Pierce to be the new Secretary of the Department of Housing and Urban Development. In reviewing his record. and his responses to questions during his nomination hearing before the Senate Banking Committee. I was impressed that he is a man of achievement. intelligence. integrity. and principle. He would bring to his office many years of valuable experience in the legal profession. in business. and in government. At his nomination hearing. he displayed a welcome willingness to keep an open mind about difficult issues he would face during his tenure. I was heartened by his straightforward commitments to advance the cause of open. fair housing practiceii. and to encourage. lobal decisionmaking in the development and implementation of national urban policies. and I am particularly pleased that he recognizes that our distressed. older urban areas must not be abandoned. Judge Pierce is accustompd to making tough decisions. Of course. anyone willing to take on the task of managing such an agency as HUD deserves the admiration of us all. While I support this nomination. and have every confidence that Judge Pierce will become an effective. skillful Secretary. I feel compelled to comment upon a couple of areas to which Judge Pierce addressed himself during the nomination hearings. His statements gave me some degree of concern. and bear examination. In response to questions about specific administration support for the housing Industry durng a sharp downturn. Judge Pierce stated that the best stimulus for the housing industry was lower inflation. No one could argue with that. At the same time. no one believes that we can expect to see any dramatic Improvement in the inflation rate at any time soon. Unless interest rates come down appreciably. activity in the housing industry will remain flat. Builders and buyers alike will continue to suffer. For calendar year 1980. housing starts totaled only 1.291.000 and for 1981. the. National Association of Homebuilders predict that there will be only modest Improvement.. dependent of course on the state of the economy. The consequences of depressed housing industry conditions are lost jobs. reduced population mobility. reduced Federal. State. and tax revenues. and less opportunity for Ameriqns to obtain decent shelterwhether they own or rent their homes. And In the long run. the contribution of the production dropoff to wider cyclical swings in the homebuilding industry can only breed more Inflation. During Judge Pierces nomination hearings it was pointed out that the current economic conditions. especially the high interest rates. were forcing not only marginal homebuilders out of business. but those considered estpblished businesses as well. The Carter administration in its fiscal yedr 1982 proposed budget has recommended no additional funding for the section 235 homeownership assistance program. a program that during the past year has served as the sole salvation for the housing Industry In a number of area. At the end of last years lameduck session. Congress enacted additional appropriations to provide approximately 17.000 more units of section 235 housing. This money cannot be expected to last more than a couple of months. In the absence of any meaningful inltrovement In the Inflation picture. the question that the Reagan administration must answer is simple: How long a delay must there be before the Federal Government recognizes the plight of the homebuilding Industry. and pfarlies seeking homes. and take concrete steps to do something about It? Vague promises of a better day for us all. sometime in the future. to result from an unspecified Reagan administration economic program are inadequate. In my view. the Nation cannot afford a laissez faire attitude toward housing. and If starts figures continue to show a depressed industry. some form of direqt stimulus will be in order. I was also disturbed by Judge Pierces expectations of butbacks by as much as 10 percent in such programs as. community development block grants. urban development* black grants. and assisted housing. I am. of course. niot unmindful of his pledge not to turn his back on the needy. but my experience tells me that this group is often precisely the one to feel the burden of budget cutbacks. With the largest share of HUDs budget Involving programs for the poor. any cutbacks proposed for HUD naturally fall on these programs. IThe Secretary expressed the hope o1 all that more housing could be squeezec out of less dollars. Certainly. this hai been one of my goals. but I believe tha the Secretary will find that the 11mR within which he must work are rmudc more narrow than he thinks they are Only so much \"Inefficiency\" can bi *wrung out of section 8 and other as. sisted housing: programs before maJo: * consequences developsuch as less pro duction for the future. or lower qualit. housing. or higher rent burdens for ten ants. or fewer needy people permitte4 eligibility. I1 should* also point out that the dom plexitles of the Federal budget. Indeee of our society. make It difficult to achlev cost savings in certain Federal program without simply shifting the cost burdens to other Federal programs. or. worse. to States and localities already hard put to come up with the resources to provide an adequate level of services. For example. the new jobs that are not created due to slashes in UDAG funds would only mean in many cases continued expenditures from Federal unemployment assistance programs. which though a humane and very necessary response to the trauma of unemployment. return nothing to the Treasury. and gain us nothing in terms of productivity. The community Improvement projects that are denied because of reductions in the community development block grant programs must lead to reductions In other local services. higher local taxesusually regressive property or sales taxes. or the deferral of these projects. Our urban centers are littered with deteriorated. blighted areas the improvement of which demands resources that are still unavailable. in the meantime crime continues to breed. private investment continues to shun these areas. and In each of these communities rich and poor alike suffer the consequences. Yes. we must have budget priorities. and the Federal Government owes it to the taxpayers to see that its expenditures are prudent. but to believe that budget cuts In programs having such meaning for the social and economice structure of our communities will not have serious repercussions Is to deny the obvious. Mr. President. as I indicated. when Judge Pierce appeared before the Senate Banking Committee. HUDs mission Is a special one that requires close attention to some of the most needy segments of our soqiety. The ability of the HUD Secretary to understand the nature of their problemi and to seek a fair and meaningful commitment of resources to meet their needs will be one of the truest measurements of the Secretarys tenure With these observations. stated perhaps as reservations. I still feel A great promise that the background of Samuel Pierce indicates that he will be able t grasp the complexity and move with incisive decision on answers to our urbaai needs that will move us forward in greal harmony with the message and thc promise of the inaugural address.\n"
     ]
    }
   ],
   "source": [
    "sample = df.iloc[3]\n",
    "print(\"Speaker:\", sample['firstname'], sample['lastname'])\n",
    "print(\"Party:\", sample['party'])\n",
    "print(\"Number of Speeches:\", sample['num_speeches'])\n",
    "print(\"Utterances:\")\n",
    "\n",
    "for i, utterance in enumerate(sample['text'][:2]):\n",
    "    print(f\"{i+1}. {utterance}\")"
   ]
  },
  {
   "cell_type": "markdown",
   "id": "fe4fc14d",
   "metadata": {},
   "source": [
    "Overall, the dataset is well-structured, complete, and has a good variety of speaker metadata and bag sizes. There is some imbalance in gender and chamber representation, but this reflects historical reality rather than data issues. The null values in the middle name and suffix, make since since not everyone has a middle name, or a suffix, these are also not necessary for the predictions. The text column confirms that utterances are parsed into tokenized lists, making the data ready for instance-level learning."
   ]
  },
  {
   "cell_type": "markdown",
   "id": "c2b796dc-f69d-4686-b802-bd0d8f679ee8",
   "metadata": {},
   "source": [
    "### Bag Size (Number of Speeches per Speaker): "
   ]
  },
  {
   "cell_type": "code",
   "execution_count": 11,
   "id": "c33b453f-1bc2-4cad-8021-e548d307f154",
   "metadata": {},
   "outputs": [
    {
     "data": {
      "image/png": "[encoded data removed]",
      "text/plain": [
       "<Figure size 1000x500 with 1 Axes>"
      ]
     },
     "metadata": {},
     "output_type": "display_data"
    }
   ],
   "source": [
    "# Plot distribution of num_speeches per speaker\n",
    "plt.figure(figsize=(10, 5))\n",
    "sns.histplot(df['num_speeches'], bins=50, log_scale=(False, True))\n",
    "plt.title('Distribution of Number of Speeches per Speaker')\n",
    "plt.xlabel('Number of Speeches')\n",
    "plt.ylabel('Frequency (log scale)')\n",
    "plt.tight_layout()\n",
    "plt.show()"
   ]
  },
  {
   "cell_type": "markdown",
   "id": "e9c7cbff",
   "metadata": {},
   "source": [
    "As we can see, most speakers contribute a small number of speeches, while a few speakers are very active, with over 20,000  speeches. This kind of skewed distribution is pretty normal in political context and something to keep in mind when designing sampling or instance selection strategies later on. We might also have to consider whether to normalize or cap very large bags to avoid them dominating the learning process."
   ]
  },
  {
   "cell_type": "markdown",
   "id": "f273bea3-ecaa-4fac-83d0-5fe547b7873d",
   "metadata": {},
   "source": [
    "### Speaker Age Distribution:"
   ]
  },
  {
   "cell_type": "code",
   "execution_count": 12,
   "id": "60074a1b-1ae5-46e8-971f-100199861c9c",
   "metadata": {},
   "outputs": [
    {
     "data": {
      "image/png": "[encoded data removed]",
      "text/plain": [
       "<Figure size 800x500 with 1 Axes>"
      ]
     },
     "metadata": {},
     "output_type": "display_data"
    }
   ],
   "source": [
    "plt.figure(figsize=(8, 5))\n",
    "sns.histplot(df['age'], bins=30, kde=True)\n",
    "plt.title('Distribution of Speaker Ages')\n",
    "plt.xlabel('Age')\n",
    "plt.ylabel('Number of Speakers')\n",
    "plt.tight_layout()\n",
    "plt.show()"
   ]
  },
  {
   "cell_type": "markdown",
   "id": "2c816cbd",
   "metadata": {},
   "source": [
    "The speaker age distribution follows a roughly normal curve, having the biggest peak around age 55. Most speakers fall between 40 and 70 years old, with very few younger than 30 or older than 80. This makes sense given the age demographics of the U.S. Congress members and confirms that we have a realistic and fairly concentrated age range to work with for modeling."
   ]
  },
  {
   "cell_type": "markdown",
   "id": "30e9a2fd",
   "metadata": {},
   "source": [
    "### Party and Gender Breakdown:"
   ]
  },
  {
   "cell_type": "code",
   "execution_count": 13,
   "id": "48573aa8",
   "metadata": {},
   "outputs": [
    {
     "data": {
      "image/png": "[encoded data removed]",
      "text/plain": [
       "<Figure size 1200x500 with 2 Axes>"
      ]
     },
     "metadata": {},
     "output_type": "display_data"
    }
   ],
   "source": [
    "fig, axes = plt.subplots(1, 2, figsize=(12, 5))\n",
    "\n",
    "# Party distribution\n",
    "sns.countplot(ax=axes[0], x='party', data=df, palette='Set2')\n",
    "axes[0].set_title('Party Distribution')\n",
    "\n",
    "# Gender distribution\n",
    "sns.countplot(ax=axes[1], x='gender', data=df, palette='Set1')\n",
    "axes[1].set_title('Gender Distribution')\n",
    "\n",
    "plt.tight_layout()\n",
    "plt.show()"
   ]
  },
  {
   "cell_type": "markdown",
   "id": "1686f2f6",
   "metadata": {},
   "source": [
    "The party distribution is relatively balanced, with a slight majority of Democratic speakers over Republicans. This balance is helpful when training models that involve party prediction, as there is almost no class imbalance.\n",
    "\n",
    "On the other hand, gender distribution is heavily skewed: the majority of speakers are male. This reflects historical underrepresentation of women in U.S. Congress, but it’s important to keep in mind, especially when evaluating fairness or training models for gender-based tasks. Any performance differences could be because of this imbalance."
   ]
  },
  {
   "cell_type": "markdown",
   "id": "b745baf6",
   "metadata": {},
   "source": [
    "## 3.3 Utterance-Level Exploration\n",
    "\n",
    "Now we will focus on the content of the speeches themselves. Specifically, we want to get a better idea of what the utterances look like, how long they are, and how much variability exists across speakers.\n",
    "\n",
    "This is helpful for several reasons:\n",
    "- It tells us how consistent or noisy the text data might be\n",
    "- It helps decide whether preprocessing (like tokenization or truncation) is needed\n",
    "- It gives an early impression of the linguistic style and complexity of the data"
   ]
  },
  {
   "cell_type": "code",
   "execution_count": 14,
   "id": "857ce3a6",
   "metadata": {},
   "outputs": [
    {
     "data": {
      "text/plain": [
       "count    2.347618e+06\n",
       "mean     2.153580e+02\n",
       "std      4.428418e+02\n",
       "min      1.000000e+00\n",
       "25%      1.300000e+01\n",
       "50%      4.100000e+01\n",
       "75%      2.380000e+02\n",
       "max      2.142200e+04\n",
       "Name: text, dtype: float64"
      ]
     },
     "execution_count": 14,
     "metadata": {},
     "output_type": "execute_result"
    }
   ],
   "source": [
    "# Flatten all utterances and compute their lengths (in words)\n",
    "utterance_lengths = df['text'].explode().dropna().apply(lambda x: len(x.split()))\n",
    "\n",
    "# Basic stats\n",
    "utterance_lengths.describe()"
   ]
  },
  {
   "cell_type": "code",
   "execution_count": 15,
   "id": "e8a1791c",
   "metadata": {
    "scrolled": false
   },
   "outputs": [
    {
     "data": {
      "image/png": "[encoded data removed]",
      "text/plain": [
       "<Figure size 1000x500 with 1 Axes>"
      ]
     },
     "metadata": {},
     "output_type": "display_data"
    }
   ],
   "source": [
    "plt.figure(figsize=(10, 5))\n",
    "sns.histplot(utterance_lengths, bins=50, kde=True)\n",
    "plt.title(\"Distribution of Utterance Lengths (in Words)\")\n",
    "plt.xlabel(\"Words per Utterance\")\n",
    "plt.ylabel(\"Frequency\")\n",
    "plt.tight_layout()\n",
    "plt.show()"
   ]
  },
  {
   "cell_type": "code",
   "execution_count": 16,
   "id": "f03233f8",
   "metadata": {},
   "outputs": [
    {
     "data": {
      "image/png": "[encoded data removed]",
      "text/plain": [
       "<Figure size 1000x500 with 1 Axes>"
      ]
     },
     "metadata": {},
     "output_type": "display_data"
    }
   ],
   "source": [
    "# Filter out very long utterances for a clearer view (e.g., cap at 1000 words)\n",
    "filtered_lengths = utterance_lengths[utterance_lengths < 1000]\n",
    "\n",
    "# Plot the filtered distribution\n",
    "plt.figure(figsize=(10, 5))\n",
    "sns.histplot(filtered_lengths, bins=50, kde=True)\n",
    "plt.title(\"Distribution of Utterance Lengths (Filtered < 1000 Words)\")\n",
    "plt.xlabel(\"Words per Utterance\")\n",
    "plt.ylabel(\"Frequency\")\n",
    "plt.tight_layout()\n",
    "plt.show()"
   ]
  },
  {
   "cell_type": "markdown",
   "id": "42bd9006",
   "metadata": {},
   "source": [
    "Most of the utterances are fairly short, most fall under 100 words, with a sharp drop-off after that. There are still a noticeable number of medium-length utterances (100–300 words), and a long tail of rare but very long ones. This suggests the dataset has a mix of brief statements and more extended speeches.\n",
    "\n",
    "For modeling, it might be worth truncating or clipping extremely long utterances, especially if using models with input length limits (like transformers). The distribution also shows that most bags are dominated by short to moderately long segments, which can help guide sampling or weighting strategies later on."
   ]
  },
  {
   "cell_type": "markdown",
   "id": "a498369c",
   "metadata": {},
   "source": [
    "## Text Preprocessing and Token-Level Exploration\n",
    "Now we will do some basic cleaning and look at Basic token frequency and vocabulary size."
   ]
  },
  {
   "cell_type": "code",
   "execution_count": 17,
   "id": "f7d48e46",
   "metadata": {},
   "outputs": [
    {
     "name": "stdout",
     "output_type": "stream",
     "text": [
      "mr president i am pleased to introduce the product liability risk retention act a bill that would allow manufacturers wholesaledistributors and retailers to establish product liability risk retention groups and to purchase product liability insurance on a group basis this bill provides a miu l rceded alternative solution to an immediate problem facing all product sellers todaythe opportunity to secure protection against product liability loss at reasonable rates the bill i am introducing today is the bill reported by the commerce committee late in the last session of congress it reflects substantial amendments made by the committee on the basis of the hearings in the th congress i hope that this legislation will be considered early in the th congress adoption by the state courts of new and\n"
     ]
    }
   ],
   "source": [
    "# Define a quick cleaning function\n",
    "def clean_text(text):\n",
    "    text = text.lower()\n",
    "    text = re.sub(r\"[^a-z\\s]\", \"\", text)  # remove punctuation and numbers\n",
    "    text = re.sub(r\"\\s+\", \" \", text)      # remove extra whitespace\n",
    "    return text.strip()\n",
    "\n",
    "# Apply it to a small sample\n",
    "sample_clean = clean_text(df['text'].explode().dropna().iloc[0])\n",
    "print(sample_clean[:800])"
   ]
  },
  {
   "cell_type": "code",
   "execution_count": 18,
   "id": "a50ad096",
   "metadata": {},
   "outputs": [
    {
     "data": {
      "text/plain": [
       "text\n",
       "the     33222493\n",
       "to      17409612\n",
       "of      15697975\n",
       "and     13174395\n",
       "in      10036520\n",
       "that     9937244\n",
       "a        8920961\n",
       "i        7833457\n",
       "is       7442150\n",
       "we       5875786\n",
       "this     5840642\n",
       "for      5386771\n",
       "it       4856775\n",
       "have     4147546\n",
       "on       4055526\n",
       "are      3668126\n",
       "not      3436328\n",
       "be       3383442\n",
       "as       2950422\n",
       "with     2694700\n",
       "Name: count, dtype: int64"
      ]
     },
     "execution_count": 18,
     "metadata": {},
     "output_type": "execute_result"
    }
   ],
   "source": [
    "# Tokenize and flatten cleaned utterances\n",
    "cleaned_tokens = df['text'].explode().dropna().apply(clean_text).str.split().explode()\n",
    "\n",
    "# Count most frequent tokens\n",
    "token_counts = cleaned_tokens.value_counts()\n",
    "token_counts.head(20)"
   ]
  },
  {
   "cell_type": "markdown",
   "id": "78cd31ec",
   "metadata": {},
   "source": [
    "As expected, the most frequent tokens are common English stopwords like \"the\", \"to\", \"of\", and \"and\". This suggests that a large portion of the vocabulary is function words, which may not carry much semantic information for tasks like speaker attribute prediction. Depending on the modeling approach, it could be beneficial to filter out stopwords. That said, some stopwords (like \"we\", \"I\", or \"not\") could still carry stylistic or personal relevance in a political context, so any cleaning should be done thoughtfully."
   ]
  },
  {
   "cell_type": "code",
   "execution_count": 19,
   "id": "f5a7c8d3",
   "metadata": {},
   "outputs": [
    {
     "name": "stderr",
     "output_type": "stream",
     "text": [
      "[nltk_data] Downloading package stopwords to\n",
      "[nltk_data]     C:\\Users\\stijn\\AppData\\Roaming\\nltk_data...\n",
      "[nltk_data]   Package stopwords is already up-to-date!\n"
     ]
    },
    {
     "data": {
      "text/plain": [
       "text\n",
       "mr           2662323\n",
       "would        2041983\n",
       "president    1744786\n",
       "bill         1667923\n",
       "us           1242378\n",
       "time         1203406\n",
       "people       1147938\n",
       "amendment    1138884\n",
       "one          1037527\n",
       "senator       999655\n",
       "speaker       937471\n",
       "states        840652\n",
       "committee     824240\n",
       "years         812609\n",
       "year          807254\n",
       "going         766846\n",
       "gentleman     763962\n",
       "chairman      759636\n",
       "senate        748346\n",
       "think         745484\n",
       "Name: count, dtype: int64"
      ]
     },
     "execution_count": 19,
     "metadata": {},
     "output_type": "execute_result"
    }
   ],
   "source": [
    "# Download stopwords if needed\n",
    "nltk.download('stopwords')\n",
    "\n",
    "# Define the stopword list\n",
    "stop_words = set(stopwords.words('english'))\n",
    "\n",
    "# Filter tokens\n",
    "filtered_tokens = cleaned_tokens[~cleaned_tokens.isin(stop_words)]\n",
    "\n",
    "# Top 20 content words\n",
    "filtered_tokens.value_counts().head(20)"
   ]
  },
  {
   "cell_type": "code",
   "execution_count": 20,
   "id": "b114268f",
   "metadata": {},
   "outputs": [
    {
     "name": "stdout",
     "output_type": "stream",
     "text": [
      "Vocabulary size without stopwords: 1,690,437 unique tokens\n"
     ]
    }
   ],
   "source": [
    "filtered_vocab_size = filtered_tokens.nunique()\n",
    "print(f\"Vocabulary size without stopwords: {filtered_vocab_size:,} unique tokens\")"
   ]
  },
  {
   "cell_type": "code",
   "execution_count": 21,
   "id": "307be44d",
   "metadata": {},
   "outputs": [
    {
     "data": {
      "text/plain": [
       "text\n",
       "i            7833457\n",
       "we           5875786\n",
       "not          3436328\n",
       "mr           2662323\n",
       "would        2041983\n",
       "president    1744786\n",
       "bill         1667923\n",
       "us           1242378\n",
       "time         1203406\n",
       "people       1147938\n",
       "amendment    1138884\n",
       "one          1037527\n",
       "senator       999655\n",
       "speaker       937471\n",
       "states        840652\n",
       "committee     824240\n",
       "years         812609\n",
       "year          807254\n",
       "going         766846\n",
       "gentleman     763962\n",
       "Name: count, dtype: int64"
      ]
     },
     "execution_count": 21,
     "metadata": {},
     "output_type": "execute_result"
    }
   ],
   "source": [
    "# Keep important personal/pragmatic words\n",
    "keep_words = {\"we\", \"i\", \"not\"}\n",
    "\n",
    "# Remove them from the stopword list\n",
    "custom_stopwords = stop_words - keep_words\n",
    "\n",
    "# Re-filter tokens\n",
    "filtered_tokens_custom = cleaned_tokens[~cleaned_tokens.isin(custom_stopwords)]\n",
    "\n",
    "# Re-check top words\n",
    "filtered_tokens_custom.value_counts().head(20)"
   ]
  },
  {
   "cell_type": "markdown",
   "id": "c65443e8",
   "metadata": {},
   "source": [
    "After filtering out stopwords, we get a clearer sense of what language appears the most in the dataset. Terms like \"mr\", \"president\", \"bill\", \"senator\", and \"amendment\" reflect the formal setting of congressional speech, while words like \"people\", \"committee\", and \"states\" might offer cues about political orientation or topical focus.\n",
    "\n",
    "With over 1.6 million unique tokens remaining after stopword removal, there is still a lot variety. This filtered vocabulary is likely to be more informative for speaker-level prediction tasks, especially when using models that rely on discriminative word patterns to predict age, gender, or party affiliation.\n",
    "\n",
    "To avoid removing potentially meaningful signals, we retained certain high-impact words like *“I”*, *“we”*, and *“not”*. These words could be relevant in the context of speaker identity, for example, expressing individual vs. collective viewpoints or signaling opposition. Keeping these in the vocabulary allows the model (especially in MIL + MTL setups) to better capture stylistic and ideological cues embedded in the speaker's language."
   ]
  },
  {
   "cell_type": "markdown",
   "id": "9325297a",
   "metadata": {},
   "source": [
    "## Group-Based Token Analysis (Party & Gender)\n",
    "\n",
    "In this section, we explore how word usage varies between different speaker groups. We use sampling here to avoid memory issues caused by exploding all utterances across the full dataset. Sampling 300 speakers per group will still give a representative view of token usage patterns."
   ]
  },
  {
   "cell_type": "code",
   "execution_count": 22,
   "id": "073b92ff",
   "metadata": {},
   "outputs": [
    {
     "data": {
      "text/html": [
       "<div>\n",
       "<style scoped>\n",
       "    .dataframe tbody tr th:only-of-type {\n",
       "        vertical-align: middle;\n",
       "    }\n",
       "\n",
       "    .dataframe tbody tr th {\n",
       "        vertical-align: top;\n",
       "    }\n",
       "\n",
       "    .dataframe thead th {\n",
       "        text-align: right;\n",
       "    }\n",
       "</style>\n",
       "<table border=\"1\" class=\"dataframe\">\n",
       "  <thead>\n",
       "    <tr style=\"text-align: right;\">\n",
       "      <th></th>\n",
       "      <th>Democrat</th>\n",
       "      <th>Republican</th>\n",
       "    </tr>\n",
       "    <tr>\n",
       "      <th>tokens</th>\n",
       "      <th></th>\n",
       "      <th></th>\n",
       "    </tr>\n",
       "  </thead>\n",
       "  <tbody>\n",
       "    <tr>\n",
       "      <th>i</th>\n",
       "      <td>307654</td>\n",
       "      <td>281140</td>\n",
       "    </tr>\n",
       "    <tr>\n",
       "      <th>we</th>\n",
       "      <td>235848</td>\n",
       "      <td>220711</td>\n",
       "    </tr>\n",
       "    <tr>\n",
       "      <th>not</th>\n",
       "      <td>135079</td>\n",
       "      <td>124175</td>\n",
       "    </tr>\n",
       "    <tr>\n",
       "      <th>mr</th>\n",
       "      <td>101708</td>\n",
       "      <td>88580</td>\n",
       "    </tr>\n",
       "    <tr>\n",
       "      <th>would</th>\n",
       "      <td>78822</td>\n",
       "      <td>76016</td>\n",
       "    </tr>\n",
       "    <tr>\n",
       "      <th>president</th>\n",
       "      <td>72169</td>\n",
       "      <td>63154</td>\n",
       "    </tr>\n",
       "    <tr>\n",
       "      <th>bill</th>\n",
       "      <td>66667</td>\n",
       "      <td>63656</td>\n",
       "    </tr>\n",
       "    <tr>\n",
       "      <th>us</th>\n",
       "      <td>48916</td>\n",
       "      <td>44074</td>\n",
       "    </tr>\n",
       "    <tr>\n",
       "      <th>people</th>\n",
       "      <td>46845</td>\n",
       "      <td>43891</td>\n",
       "    </tr>\n",
       "    <tr>\n",
       "      <th>time</th>\n",
       "      <td>46551</td>\n",
       "      <td>44269</td>\n",
       "    </tr>\n",
       "    <tr>\n",
       "      <th>amendment</th>\n",
       "      <td>46115</td>\n",
       "      <td>39690</td>\n",
       "    </tr>\n",
       "    <tr>\n",
       "      <th>senator</th>\n",
       "      <td>41698</td>\n",
       "      <td>34776</td>\n",
       "    </tr>\n",
       "    <tr>\n",
       "      <th>one</th>\n",
       "      <td>41363</td>\n",
       "      <td>37441</td>\n",
       "    </tr>\n",
       "    <tr>\n",
       "      <th>year</th>\n",
       "      <td>32798</td>\n",
       "      <td>28686</td>\n",
       "    </tr>\n",
       "    <tr>\n",
       "      <th>senate</th>\n",
       "      <td>32793</td>\n",
       "      <td>28765</td>\n",
       "    </tr>\n",
       "    <tr>\n",
       "      <th>years</th>\n",
       "      <td>32783</td>\n",
       "      <td>29174</td>\n",
       "    </tr>\n",
       "    <tr>\n",
       "      <th>committee</th>\n",
       "      <td>32718</td>\n",
       "      <td>28584</td>\n",
       "    </tr>\n",
       "    <tr>\n",
       "      <th>speaker</th>\n",
       "      <td>32523</td>\n",
       "      <td>29504</td>\n",
       "    </tr>\n",
       "    <tr>\n",
       "      <th>states</th>\n",
       "      <td>30687</td>\n",
       "      <td>32736</td>\n",
       "    </tr>\n",
       "    <tr>\n",
       "      <th>going</th>\n",
       "      <td>30526</td>\n",
       "      <td>29243</td>\n",
       "    </tr>\n",
       "  </tbody>\n",
       "</table>\n",
       "</div>"
      ],
      "text/plain": [
       "           Democrat  Republican\n",
       "tokens                         \n",
       "i            307654      281140\n",
       "we           235848      220711\n",
       "not          135079      124175\n",
       "mr           101708       88580\n",
       "would         78822       76016\n",
       "president     72169       63154\n",
       "bill          66667       63656\n",
       "us            48916       44074\n",
       "people        46845       43891\n",
       "time          46551       44269\n",
       "amendment     46115       39690\n",
       "senator       41698       34776\n",
       "one           41363       37441\n",
       "year          32798       28686\n",
       "senate        32793       28765\n",
       "years         32783       29174\n",
       "committee     32718       28584\n",
       "speaker       32523       29504\n",
       "states        30687       32736\n",
       "going         30526       29243"
      ]
     },
     "execution_count": 22,
     "metadata": {},
     "output_type": "execute_result"
    }
   ],
   "source": [
    "# Sample 300 Democrat and 300 Republican speakers\n",
    "dem_sample = df[df['party'] == 'D'].sample(n=300, random_state=42)\n",
    "rep_sample = df[df['party'] == 'R'].sample(n=300, random_state=42)\n",
    "\n",
    "# Combine and explode\n",
    "sampled_party_df = pd.concat([dem_sample, rep_sample])\n",
    "exploded_party = sampled_party_df[['party', 'text']].explode('text').dropna()\n",
    "exploded_party['cleaned'] = exploded_party['text'].apply(clean_text)\n",
    "exploded_party['tokens'] = exploded_party['cleaned'].apply(\n",
    "    lambda x: [t for t in x.split() if t not in custom_stopwords]\n",
    ")\n",
    "\n",
    "# Token counts\n",
    "dem_tokens = exploded_party[exploded_party['party'] == 'D']['tokens'].explode()\n",
    "rep_tokens = exploded_party[exploded_party['party'] == 'R']['tokens'].explode()\n",
    "\n",
    "dem_counts = dem_tokens.value_counts().head(20)\n",
    "rep_counts = rep_tokens.value_counts().head(20)\n",
    "\n",
    "# Combine into one table\n",
    "party_comparison = pd.concat([dem_counts.rename('Democrat'), rep_counts.rename('Republican')], axis=1).fillna(0)\n",
    "party_comparison\n"
   ]
  },
  {
   "cell_type": "code",
   "execution_count": 23,
   "id": "93542fef",
   "metadata": {},
   "outputs": [
    {
     "data": {
      "text/html": [
       "<div>\n",
       "<style scoped>\n",
       "    .dataframe tbody tr th:only-of-type {\n",
       "        vertical-align: middle;\n",
       "    }\n",
       "\n",
       "    .dataframe tbody tr th {\n",
       "        vertical-align: top;\n",
       "    }\n",
       "\n",
       "    .dataframe thead th {\n",
       "        text-align: right;\n",
       "    }\n",
       "</style>\n",
       "<table border=\"1\" class=\"dataframe\">\n",
       "  <thead>\n",
       "    <tr style=\"text-align: right;\">\n",
       "      <th></th>\n",
       "      <th>Male</th>\n",
       "      <th>Female</th>\n",
       "    </tr>\n",
       "    <tr>\n",
       "      <th>tokens</th>\n",
       "      <th></th>\n",
       "      <th></th>\n",
       "    </tr>\n",
       "  </thead>\n",
       "  <tbody>\n",
       "    <tr>\n",
       "      <th>i</th>\n",
       "      <td>247490.0</td>\n",
       "      <td>193076.0</td>\n",
       "    </tr>\n",
       "    <tr>\n",
       "      <th>we</th>\n",
       "      <td>189757.0</td>\n",
       "      <td>158677.0</td>\n",
       "    </tr>\n",
       "    <tr>\n",
       "      <th>not</th>\n",
       "      <td>106203.0</td>\n",
       "      <td>78500.0</td>\n",
       "    </tr>\n",
       "    <tr>\n",
       "      <th>mr</th>\n",
       "      <td>86135.0</td>\n",
       "      <td>60497.0</td>\n",
       "    </tr>\n",
       "    <tr>\n",
       "      <th>would</th>\n",
       "      <td>63577.0</td>\n",
       "      <td>47942.0</td>\n",
       "    </tr>\n",
       "    <tr>\n",
       "      <th>president</th>\n",
       "      <td>54355.0</td>\n",
       "      <td>26759.0</td>\n",
       "    </tr>\n",
       "    <tr>\n",
       "      <th>bill</th>\n",
       "      <td>49912.0</td>\n",
       "      <td>48559.0</td>\n",
       "    </tr>\n",
       "    <tr>\n",
       "      <th>time</th>\n",
       "      <td>38835.0</td>\n",
       "      <td>29985.0</td>\n",
       "    </tr>\n",
       "    <tr>\n",
       "      <th>us</th>\n",
       "      <td>37446.0</td>\n",
       "      <td>36153.0</td>\n",
       "    </tr>\n",
       "    <tr>\n",
       "      <th>amendment</th>\n",
       "      <td>34536.0</td>\n",
       "      <td>25024.0</td>\n",
       "    </tr>\n",
       "    <tr>\n",
       "      <th>people</th>\n",
       "      <td>33463.0</td>\n",
       "      <td>33800.0</td>\n",
       "    </tr>\n",
       "    <tr>\n",
       "      <th>one</th>\n",
       "      <td>32610.0</td>\n",
       "      <td>25989.0</td>\n",
       "    </tr>\n",
       "    <tr>\n",
       "      <th>speaker</th>\n",
       "      <td>32127.0</td>\n",
       "      <td>31575.0</td>\n",
       "    </tr>\n",
       "    <tr>\n",
       "      <th>senator</th>\n",
       "      <td>28065.0</td>\n",
       "      <td>0.0</td>\n",
       "    </tr>\n",
       "    <tr>\n",
       "      <th>gentleman</th>\n",
       "      <td>27631.0</td>\n",
       "      <td>0.0</td>\n",
       "    </tr>\n",
       "    <tr>\n",
       "      <th>years</th>\n",
       "      <td>25723.0</td>\n",
       "      <td>0.0</td>\n",
       "    </tr>\n",
       "    <tr>\n",
       "      <th>committee</th>\n",
       "      <td>25321.0</td>\n",
       "      <td>0.0</td>\n",
       "    </tr>\n",
       "    <tr>\n",
       "      <th>chairman</th>\n",
       "      <td>24928.0</td>\n",
       "      <td>21364.0</td>\n",
       "    </tr>\n",
       "    <tr>\n",
       "      <th>year</th>\n",
       "      <td>24766.0</td>\n",
       "      <td>0.0</td>\n",
       "    </tr>\n",
       "    <tr>\n",
       "      <th>going</th>\n",
       "      <td>24683.0</td>\n",
       "      <td>0.0</td>\n",
       "    </tr>\n",
       "    <tr>\n",
       "      <th>support</th>\n",
       "      <td>0.0</td>\n",
       "      <td>25902.0</td>\n",
       "    </tr>\n",
       "    <tr>\n",
       "      <th>today</th>\n",
       "      <td>0.0</td>\n",
       "      <td>22417.0</td>\n",
       "    </tr>\n",
       "    <tr>\n",
       "      <th>health</th>\n",
       "      <td>0.0</td>\n",
       "      <td>22353.0</td>\n",
       "    </tr>\n",
       "    <tr>\n",
       "      <th>states</th>\n",
       "      <td>0.0</td>\n",
       "      <td>22024.0</td>\n",
       "    </tr>\n",
       "    <tr>\n",
       "      <th>new</th>\n",
       "      <td>0.0</td>\n",
       "      <td>21925.0</td>\n",
       "    </tr>\n",
       "    <tr>\n",
       "      <th>many</th>\n",
       "      <td>0.0</td>\n",
       "      <td>21394.0</td>\n",
       "    </tr>\n",
       "  </tbody>\n",
       "</table>\n",
       "</div>"
      ],
      "text/plain": [
       "               Male    Female\n",
       "tokens                       \n",
       "i          247490.0  193076.0\n",
       "we         189757.0  158677.0\n",
       "not        106203.0   78500.0\n",
       "mr          86135.0   60497.0\n",
       "would       63577.0   47942.0\n",
       "president   54355.0   26759.0\n",
       "bill        49912.0   48559.0\n",
       "time        38835.0   29985.0\n",
       "us          37446.0   36153.0\n",
       "amendment   34536.0   25024.0\n",
       "people      33463.0   33800.0\n",
       "one         32610.0   25989.0\n",
       "speaker     32127.0   31575.0\n",
       "senator     28065.0       0.0\n",
       "gentleman   27631.0       0.0\n",
       "years       25723.0       0.0\n",
       "committee   25321.0       0.0\n",
       "chairman    24928.0   21364.0\n",
       "year        24766.0       0.0\n",
       "going       24683.0       0.0\n",
       "support         0.0   25902.0\n",
       "today           0.0   22417.0\n",
       "health          0.0   22353.0\n",
       "states          0.0   22024.0\n",
       "new             0.0   21925.0\n",
       "many            0.0   21394.0"
      ]
     },
     "execution_count": 23,
     "metadata": {},
     "output_type": "execute_result"
    }
   ],
   "source": [
    "# Repeat for gender\n",
    "# Sample 300 male and 300 female speakers\n",
    "male_sample = df[df['gender'] == 'M'].sample(n=300, random_state=42)\n",
    "female_sample = df[df['gender'] == 'F'].sample(n=300, random_state=42)\n",
    "\n",
    "# Combine and explode\n",
    "sampled_gender_df = pd.concat([male_sample, female_sample])\n",
    "exploded_gender = sampled_gender_df[['gender', 'text']].explode('text').dropna()\n",
    "exploded_gender['cleaned'] = exploded_gender['text'].apply(clean_text)\n",
    "exploded_gender['tokens'] = exploded_gender['cleaned'].apply(lambda x: [t for t in x.split() if t not in custom_stopwords])\n",
    "\n",
    "# Token counts\n",
    "male_tokens = exploded_gender[exploded_gender['gender'] == 'M']['tokens'].explode()\n",
    "female_tokens = exploded_gender[exploded_gender['gender'] == 'F']['tokens'].explode()\n",
    "\n",
    "male_counts = male_tokens.value_counts().head(20)\n",
    "female_counts = female_tokens.value_counts().head(20)\n",
    "\n",
    "# Combine into one table\n",
    "gender_comparison = pd.concat([male_counts.rename('Male'), female_counts.rename('Female')], axis=1).fillna(0)\n",
    "gender_comparison"
   ]
  },
  {
   "cell_type": "code",
   "execution_count": 30,
   "id": "ac22179f",
   "metadata": {},
   "outputs": [
    {
     "name": "stdout",
     "output_type": "stream",
     "text": [
      "Words with large usage differences in both party and gender groups:\n",
      "{'senator', 'people', 'president', 'years', 'time', 'one', 'going', 'states', 'speaker', 'we', 'not', 'amendment', 'year', 'bill', 'us', 'would', 'committee', 'mr', 'i'}\n",
      "\n",
      "Count: 19 shared discriminative words\n"
     ]
    }
   ],
   "source": [
    "# Get top-N most frequent words across both groups (combined)\n",
    "top_n = 50\n",
    "\n",
    "# Combine all token counts\n",
    "combined_party = pd.concat([dem_counts, rep_counts], axis=1).fillna(0)\n",
    "combined_party.columns = ['Democrat', 'Republican']\n",
    "combined_party['diff'] = abs(combined_party['Democrat'] - combined_party['Republican'])\n",
    "top_party_diff_words = combined_party.sort_values(by='diff', ascending=False).head(top_n)\n",
    "\n",
    "combined_gender = pd.concat([male_counts, female_counts], axis=1).fillna(0)\n",
    "combined_gender.columns = ['Male', 'Female']\n",
    "combined_gender['diff'] = abs(combined_gender['Male'] - combined_gender['Female'])\n",
    "top_gender_diff_words = combined_gender.sort_values(by='diff', ascending=False).head(top_n)\n",
    "\n",
    "# Compare overlap in high-difference words\n",
    "party_diff_set = set(top_party_diff_words.index)\n",
    "gender_diff_set = set(top_gender_diff_words.index)\n",
    "shared_differences = party_diff_set & gender_diff_set\n",
    "\n",
    "print(\"Words with large usage differences in both party and gender groups:\")\n",
    "print(shared_differences)\n",
    "print(f\"\\nCount: {len(shared_differences)} shared discriminative words\")"
   ]
  },
  {
   "cell_type": "markdown",
   "id": "ac9a4eed",
   "metadata": {},
   "source": [
    "By analyzing token usage across sampled speakers from different political parties and genders, we can see consistent patterns in how language varies between these groups. Also, 19 tokens, including words like \"i\", \"we\", \"amendment\", \"president\", and \"senator\", showed large usage differences in both party and gender comparisons.\n",
    "\n",
    "This overlap suggests that certain linguistic features carry shared predictive signal across tasks, making them potentially good candidates for shared representations in a MTL framework. At the same time, the presence of group-specific tokens reinforces the need for task-specific components or task clustering to account for non-shared patterns.\n"
   ]
  },
  {
   "cell_type": "markdown",
   "id": "c28c9d03",
   "metadata": {},
   "source": [
    "## EDA Summary\n",
    "\n",
    "This exploratory data analysis provided a detailed look into the structure, content, and linguistic patterns of the political speech dataset. The key findings align with the goals of this thesis, which focuses on using MTL and RL-MIL for speaker attribute prediction.\n",
    "\n",
    "### Key Points:\n",
    "\n",
    "- **Structured Speaker Data**: Each speaker is associated with a bag of utterances, making this dataset well-suited for Multiple Instance Learning (MIL). Demographic and political metadata (e.g., age, gender, party, chamber) are consistently available.\n",
    "\n",
    "- **Speech Content**: The dataset includes a wide variety of utterance lengths, with a long tail of very large bags. Most utterances are formal and context-specific, reflecting the congressional setting.\n",
    "\n",
    "- **Stopword Handling**: Custom stopword filtering helped preserve meaningful words like *“I”*, *“we”*, and *“not”*, which are stylistically and semantically relevant for speaker profiling (more words might need to be added).\n",
    "\n",
    "- **Token-Level Differences Across Attributes**: Clear differences in word usage were found between speaker groups based on **party** and **gender**.\n",
    "\n",
    "- **Shared Signal Across Tasks**: A significant overlap in discriminative words across party and gender suggests the presence of **shared linguistic representations**, a strong argument in favor of MTL.\n",
    "\n",
    "### Impact on Modeling\n",
    "\n",
    "This analysis shows:\n",
    "- Speaker attributes do influence linguistic patterns in a measurable way.\n",
    "- There is both **shared** and **task-specific** signal, supporting the use of **MTL with task clustering**.\n",
    "- The MIL structure is appropriate, with variable-length bags and speaker-level labels.\n"
   ]
  }
 ],
 "metadata": {
  "kernelspec": {
   "display_name": ".venv",
   "language": "python",
   "name": "python3"
  },
  "language_info": {
   "codemirror_mode": {
    "name": "ipython",
    "version": 3
   },
   "file_extension": ".py",
   "mimetype": "text/x-python",
   "name": "python",
   "nbconvert_exporter": "python",
   "pygments_lexer": "ipython3",
   "version": "3.11.0"
  }
 },
 "nbformat": 4,
 "nbformat_minor": 5
}
